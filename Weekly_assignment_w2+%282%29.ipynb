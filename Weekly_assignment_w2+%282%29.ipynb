{
 "cells": [
  {
   "cell_type": "markdown",
   "id": "c99bc0f4",
   "metadata": {
    "id": "c99bc0f4"
   },
   "source": [
    "# Week:2 Know your data"
   ]
  },
  {
   "cell_type": "markdown",
   "id": "17614dd2",
   "metadata": {
    "id": "17614dd2"
   },
   "source": [
    "### Objective:\n",
    "The objective of the assignment is to perform statistical analysis on a given data using python libraries and exploratory data analysis using data visualization techniques.\n",
    "\n",
    "We have to use Fatal Police Shooting Data to answer the questions given in this notebook."
   ]
  },
  {
   "cell_type": "markdown",
   "id": "94579906",
   "metadata": {
    "id": "94579906"
   },
   "source": [
    "### Fatal Police Shooting Data"
   ]
  },
  {
   "cell_type": "markdown",
   "id": "4fbb8326",
   "metadata": {
    "id": "4fbb8326"
   },
   "source": [
    "**About dataset**\\\n",
    "The dataset consists of following columns\n",
    "1. **id**                         : unqiue identifier of each victim\n",
    "2. **name**                       : name of a victim\n",
    "3. **date**                       : date on fatal shooting \n",
    "4. **manner_of_death**            : manner of death classification\n",
    "    * Shot\n",
    "    * Shot and Tasered\n",
    "5. **armed**                      : indicates that the victim was armed with some sort of implement that a police officer believed could inflict harm\n",
    "    * undetermined: it is not known whether or not the victim had a weapon\n",
    "    * unknown: the victim was armed, but it is not known what the object was\n",
    "    * unarmed: the victim was not armed\n",
    "6. **age**                        : age of victim\n",
    "7. **gender**                     : the gender of the victim. The Post identifies victims by the gender they identify with if reports indicate that it differs from their biological sex.\n",
    "    * M: Male\n",
    "    * F: Female\n",
    "    * None: Unknown\n",
    "8. **race**                       : race of victim\n",
    "    * W: White, non-Hispanic\n",
    "    * B: Black, non-Hispanic\n",
    "    * A: Asian\n",
    "    * N: Native American\n",
    "    * H: Hispanic\n",
    "    * O: Other\n",
    "    * None: unknown\n",
    "9. **city**                       : the municipality where the fatal shooting took place. Note that in some cases this field may contain a county name if a more specific municipality is unavailable or unknown.\n",
    "10. **state**                     : two-letter postal code abbreviation\n",
    "11. **signs_of_mental_illness**   : News reports have indicated the victim had a history of mental health issues, expressed suicidal intentions or was experiencing mental distress at the time of the shooting.\n",
    "12. **threat_level**              : These would include incidents where officers or others were shot at, threatened with a gun, attacked with other weapons or physical force, etc. The attack category is meant to flag the highest level of threat. The other and undetermined categories represent all remaining cases. Other includes many incidents where officers or others faced significant threats. \n",
    "13. **flee**                      : News reports have indicated the victim was moving away from officers\n",
    "    * Foot\n",
    "    * Car\n",
    "    * Not fleeing\n",
    "14. **body_camera**               : News reports have indicated an officer was wearing a body camera and it may have recorded some portion of the incident."
   ]
  },
  {
   "cell_type": "markdown",
   "id": "e14398de",
   "metadata": {
    "id": "e14398de"
   },
   "source": [
    "## Let's Begin"
   ]
  },
  {
   "cell_type": "code",
   "execution_count": 37,
   "id": "bbffb6a9",
   "metadata": {
    "id": "bbffb6a9"
   },
   "outputs": [],
   "source": [
    "# Install the libraries\n",
    "import pandas as pd \n",
    "import numpy as np\n",
    "import matplotlib.pyplot as plt\n",
    "import seaborn as sns\n",
    "%matplotlib inline"
   ]
  },
  {
   "cell_type": "code",
   "execution_count": 38,
   "id": "336383ca",
   "metadata": {
    "id": "336383ca",
    "outputId": "3218a7b8-9b0d-4542-d965-eb314b76ef27"
   },
   "outputs": [],
   "source": [
    "import pandas as pd\n",
    "\n",
    "# Replace 'file_path' with the actual path to your CSV file\n",
    "file_path = \"C:/Users/User/Downloads/week_1_assignment_output.csv\"\n",
    "\n",
    "# Read the CSV file into a DataFrame\n",
    "df = pd.read_csv(file_path)\n",
    "\n",
    "# Now 'df' contains the data from the CSV file"
   ]
  },
  {
   "cell_type": "code",
   "execution_count": 39,
   "id": "f7c7f28b",
   "metadata": {
    "id": "f7c7f28b",
    "outputId": "04740c1f-5bfa-4d48-8658-c67e476c07eb"
   },
   "outputs": [
    {
     "data": {
      "text/plain": [
       "(4478, 15)"
      ]
     },
     "execution_count": 39,
     "metadata": {},
     "output_type": "execute_result"
    }
   ],
   "source": [
    "# Check the shape of the dataset\n",
    "df.shape"
   ]
  },
  {
   "cell_type": "markdown",
   "id": "8340d0e8",
   "metadata": {
    "id": "8340d0e8"
   },
   "source": [
    "### Question: 1 (2 Marks)\n",
    "\n",
    "Display the count of missing values in each column of a dataset"
   ]
  },
  {
   "cell_type": "code",
   "execution_count": 40,
   "id": "4c6deb73",
   "metadata": {
    "id": "4c6deb73"
   },
   "outputs": [
    {
     "name": "stdout",
     "output_type": "stream",
     "text": [
      "id                           0\n",
      "name                         0\n",
      "date                         0\n",
      "manner_of_death              0\n",
      "armed                      248\n",
      "age                        169\n",
      "gender                       5\n",
      "race                       373\n",
      "city                         0\n",
      "state                        0\n",
      "signs_of_mental_illness      0\n",
      "threat_level                 0\n",
      "flee                       179\n",
      "body_camera                  0\n",
      "age_categories               0\n",
      "dtype: int64\n"
     ]
    }
   ],
   "source": [
    "# Q1. Display the count of missing values in each column of a dataset.\n",
    "print(df.isnull().sum())"
   ]
  },
  {
   "cell_type": "markdown",
   "id": "a4efbe66",
   "metadata": {
    "id": "a4efbe66"
   },
   "source": [
    "### Question: 2 (2 Marks)\n",
    "Display the outliers present in the age column using IQR method"
   ]
  },
  {
   "cell_type": "code",
   "execution_count": 41,
   "id": "a6d96152",
   "metadata": {
    "id": "a6d96152"
   },
   "outputs": [],
   "source": [
    "# Quantile 1 of age column (25 percentage)\n",
    "Q1 = df['age'].quantile(0.25)\n",
    "# Quantile 3 of age column (75 percentage)\n",
    "Q3 =  df['age'].quantile(0.75)"
   ]
  },
  {
   "cell_type": "code",
   "execution_count": 42,
   "id": "c25e9091",
   "metadata": {
    "id": "c25e9091"
   },
   "outputs": [
    {
     "data": {
      "text/plain": [
       "18.0"
      ]
     },
     "execution_count": 42,
     "metadata": {},
     "output_type": "execute_result"
    }
   ],
   "source": [
    "# Inter Quartile Range\n",
    "IQR = Q3 - Q1\n",
    "IQR"
   ]
  },
  {
   "cell_type": "code",
   "execution_count": 43,
   "id": "3cd435d2",
   "metadata": {
    "id": "3cd435d2"
   },
   "outputs": [
    {
     "name": "stdout",
     "output_type": "stream",
     "text": [
      "72.0\n",
      "0.0\n"
     ]
    }
   ],
   "source": [
    "# Outliers present in upper case\n",
    "upper_case = Q3 + (1.5*IQR)\n",
    "print(upper_case)\n",
    "# Outliers present in lower case\n",
    "lower_case = Q1 - (1.5*IQR)\n",
    "print(lower_case)"
   ]
  },
  {
   "cell_type": "code",
   "execution_count": 44,
   "id": "9169c9f3",
   "metadata": {},
   "outputs": [],
   "source": [
    "# Loop through the each data record in the age column and append a data to the outliers list variable\n",
    "outliers = []\n",
    "for i in df['age']:\n",
    "    if (i < lower_case) or (i > upper_case):  # if any data point in the age column less than lower case or any data point greater than upper case will be an outlier\n",
    "        outliers.append(i)\n"
   ]
  },
  {
   "cell_type": "code",
   "execution_count": 45,
   "id": "MF5leAr0JqlX",
   "metadata": {
    "id": "MF5leAr0JqlX"
   },
   "outputs": [
    {
     "name": "stdout",
     "output_type": "stream",
     "text": [
      "[75.0, 74.0, 77.0, 83.0, 76.0, 86.0, 76.0, 77.0, 76.0, 76.0, 80.0, 82.0, 86.0, 76.0, 83.0, 73.0, 91.0, 73.0, 79.0, 74.0, 75.0, 82.0, 76.0, 78.0, 84.0, 84.0, 81.0, 89.0, 73.0, 77.0, 76.0, 84.0, 81.0, 80.0, 77.0, 76.0, 74.0, 76.0, 73.0]\n",
      "\n",
      "total no of outliers are in the set:  39\n"
     ]
    }
   ],
   "source": [
    "# print outliers\n",
    "print(outliers)\n",
    "print('\\ntotal no of outliers are in the set: ', len(outliers))"
   ]
  },
  {
   "cell_type": "markdown",
   "id": "195e585a",
   "metadata": {
    "id": "195e585a"
   },
   "source": [
    "### Question: 3 (2 Marks) \n",
    "Group the year, gender, age categories to check how many victims were harmed"
   ]
  },
  {
   "cell_type": "code",
   "execution_count": 46,
   "id": "5c295817",
   "metadata": {
    "id": "5c295817"
   },
   "outputs": [],
   "source": [
    "# Create a new column by extracting year from the date column\n",
    "df['year'] = pd.to_datetime(df['date']).dt.year"
   ]
  },
  {
   "cell_type": "code",
   "execution_count": 47,
   "id": "fb42388f",
   "metadata": {
    "id": "fb42388f"
   },
   "outputs": [
    {
     "name": "stdout",
     "output_type": "stream",
     "text": [
      "    year gender   age_categories  count\n",
      "0   2015      F            Adult     18\n",
      "1   2015      F  Senior citizens      6\n",
      "2   2015      F          Teenage      5\n",
      "3   2015      F            Youth     13\n",
      "4   2015      M            Adult    309\n",
      "5   2015      M            Child      1\n",
      "6   2015      M  Senior citizens    166\n",
      "7   2015      M          Teenage     89\n",
      "8   2015      M            Youth    387\n",
      "9   2016      F            Adult     15\n",
      "10  2016      F            Child      1\n",
      "11  2016      F  Senior citizens      7\n",
      "12  2016      F            Youth     17\n",
      "13  2016      M            Adult    304\n",
      "14  2016      M  Senior citizens    170\n",
      "15  2016      M          Teenage     84\n",
      "16  2016      M            Youth    364\n",
      "17  2017      F            Adult     12\n",
      "18  2017      F  Senior citizens      8\n",
      "19  2017      F          Teenage      5\n",
      "20  2017      F            Youth     20\n",
      "21  2017      M            Adult    297\n",
      "22  2017      M            Child      1\n",
      "23  2017      M  Senior citizens    179\n",
      "24  2017      M          Teenage     79\n",
      "25  2017      M            Youth    383\n",
      "26  2018      F            Adult     19\n",
      "27  2018      F  Senior citizens     11\n",
      "28  2018      F          Teenage      3\n",
      "29  2018      F            Youth     19\n",
      "30  2018      M            Adult    314\n",
      "31  2018      M  Senior citizens    207\n",
      "32  2018      M          Teenage     85\n",
      "33  2018      M            Youth    333\n",
      "34  2019      F            Adult      8\n",
      "35  2019      F  Senior citizens      6\n",
      "36  2019      F          Teenage      4\n",
      "37  2019      F            Youth     11\n",
      "38  2019      M            Adult    169\n",
      "39  2019      M  Senior citizens    107\n",
      "40  2019      M          Teenage     49\n",
      "41  2019      M            Youth    188\n"
     ]
    }
   ],
   "source": [
    "grouped_data = df.groupby(['year', 'gender', 'age_categories']).size().reset_index(name='count')\n",
    "print(grouped_data)"
   ]
  },
  {
   "cell_type": "markdown",
   "id": "yjEYx9yHE7bB",
   "metadata": {
    "id": "yjEYx9yHE7bB"
   },
   "source": []
  },
  {
   "cell_type": "markdown",
   "id": "be08780a",
   "metadata": {
    "id": "be08780a"
   },
   "source": [
    "### Question: 4 (2 Marks )\n",
    "Generate a bar plot using seaborn and understand the threat levels of different age categories"
   ]
  },
  {
   "cell_type": "code",
   "execution_count": 48,
   "id": "2e610996",
   "metadata": {},
   "outputs": [],
   "source": [
    "import warnings\n",
    "\n",
    "# Suppress FutureWarnings from Seaborn\n",
    "warnings.simplefilter(action='ignore', category=FutureWarning)"
   ]
  },
  {
   "cell_type": "code",
   "execution_count": 49,
   "id": "0cde59bf",
   "metadata": {
    "id": "0cde59bf"
   },
   "outputs": [
    {
     "data": {
      "image/png": "[encoded data removed]",
      "text/plain": [
       "<Figure size 640x480 with 1 Axes>"
      ]
     },
     "metadata": {},
     "output_type": "display_data"
    }
   ],
   "source": [
    "import seaborn as sns\n",
    "import matplotlib.pyplot as plt\n",
    "import pandas as pd\n",
    "\n",
    "# Assuming 'threat_level' is a column in your DataFrame\n",
    "sns.countplot(data=df, x='age_categories', hue='threat_level')\n",
    "plt.xlabel('Age Categories')\n",
    "plt.ylabel('Count')\n",
    "plt.title('Threat Levels by Age Categories')\n",
    "\n",
    "# Remove deprecated warning\n",
    "for ax in plt.gcf().axes:\n",
    "    if hasattr(ax.yaxis.get_major_formatter(), 'axis') and ax.yaxis.get_major_formatter().axis == 'both':\n",
    "        ax.yaxis.set_major_formatter(plt.ScalarFormatter())\n",
    "\n",
    "plt.show()"
   ]
  },
  {
   "cell_type": "markdown",
   "id": "d9347ed8",
   "metadata": {
    "id": "d9347ed8"
   },
   "source": [
    "### Question: 5 (2 Marks )\n",
    "Generate a bar plot using seaborn and understand the year wise kills based on victim race"
   ]
  },
  {
   "cell_type": "code",
   "execution_count": 50,
   "id": "3baae75c",
   "metadata": {
    "id": "3baae75c"
   },
   "outputs": [
    {
     "data": {
      "image/png": "[encoded data removed]",
      "text/plain": [
       "<Figure size 640x480 with 1 Axes>"
      ]
     },
     "metadata": {},
     "output_type": "display_data"
    }
   ],
   "source": [
    "sns.countplot(data=df, x='year', hue='race')\n",
    "plt.xlabel('Year')\n",
    "plt.ylabel('Count')\n",
    "plt.title('Year-wise Kills by Victim Race')\n",
    "plt.legend(title='Race', loc='upper right')\n",
    "plt.show()"
   ]
  },
  {
   "cell_type": "code",
   "execution_count": 51,
   "id": "4Na7zRHCw4sG",
   "metadata": {
    "id": "4Na7zRHCw4sG"
   },
   "outputs": [],
   "source": [
    "# Save the data into csv to use for week-3 assignment"
   ]
  },
  {
   "cell_type": "code",
   "execution_count": 52,
   "id": "b8ba3fc7",
   "metadata": {},
   "outputs": [],
   "source": [
    "# Assuming your DataFrame is named df and you want to save it as 'week_3_assignment.csv'\n",
    "df.to_csv('week_3_assignment.csv', index=False)\n"
   ]
  },
  {
   "cell_type": "markdown",
   "id": "9f6279cb",
   "metadata": {
    "id": "9f6279cb"
   },
   "source": [
    "## Thank you!"
   ]
  }
 ],
 "metadata": {
  "colab": {
   "provenance": []
  },
  "kernelspec": {
   "display_name": "Python 3 (ipykernel)",
   "language": "python",
   "name": "python3"
  },
  "language_info": {
   "codemirror_mode": {
    "name": "ipython",
    "version": 3
   },
   "file_extension": ".py",
   "mimetype": "text/x-python",
   "name": "python",
   "nbconvert_exporter": "python",
   "pygments_lexer": "ipython3",
   "version": "3.10.9"
  }
 },
 "nbformat": 4,
 "nbformat_minor": 5
}
